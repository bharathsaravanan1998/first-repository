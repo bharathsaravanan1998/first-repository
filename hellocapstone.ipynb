print('Hello Capstone Project!')
import pandas as pd
import numpy as np
